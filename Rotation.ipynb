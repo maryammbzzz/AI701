from collections import defaultdict
import os
import albumentations as A
import cv2
from PIL import Image
import numpy as np

def process_single_image(img_path, output_folder, transform):
    img = cv2.imread(img_path)  
    img = cv2.cvtColor(img, cv2.COLOR_BGR2RGB)
    processed_img = transform(image=img)['image']
    filename = os.path.basename(img_path)
    save_path = os.path.join(output_folder, filename)
    Image.fromarray(processed_img).save(save_path)

def process_and_save_images(input_folder, output_folder):
    if not os.path.exists(output_folder):
        os.makedirs(output_folder)
    output_folder_files = os.listdir(output_folder)
    transform = A.Compose([
        A.RandomRotate90(p=0.5), # 50% chance to rotate the image by 90 degrees
        A.Flip(p=0.5),           # 50% chance to apply a horizontal or vertical flip
        A.Transpose(p=0.5)       # 50% chance to transpose the image
    ])
    for filename in os.listdir(input_folder):
        if filename.lower().endswith(('.png', '.jpg', '.jpeg', '.bmp', '.gif', '.tif')):
            if not filename.lower() in output_folder_files:
                
                img_path = os.path.join(input_folder, filename)
                process_single_image(img_path, output_folder, transform)

input_folder_path = '/home/abdulrahman.almansoo/Ai701/photos/eyePACS/train/' 
output_folder_path = '/home/abdulrahman.almansoo/Ai701/photos/eyePACS/rotation/'

process_and_save_images(input_folder_path, output_folder_path)
