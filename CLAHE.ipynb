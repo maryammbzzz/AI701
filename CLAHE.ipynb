{
  "nbformat": 4,
  "nbformat_minor": 0,
  "metadata": {
    "colab": {
      "provenance": []
    },
    "kernelspec": {
      "name": "python3",
      "display_name": "Python 3"
    },
    "language_info": {
      "name": "python"
    }
  },
  "cells": [
    {
      "cell_type": "code",
      "execution_count": null,
      "metadata": {
        "id": "SSwAd-gQ3aMx"
      },
      "outputs": [],
      "source": [
        "from collections import defaultdict\n",
        "import os\n",
        "import albumentations as A\n",
        "import cv2\n",
        "from PIL import Image\n",
        "import numpy as np\n",
        "\n",
        "def process_single_image(img_path, output_folder, transform):\n",
        "    img = cv2.imread(img_path)\n",
        "    img = cv2.cvtColor(img, cv2.COLOR_BGR2RGB)\n",
        "    processed_img = transform(image=img)['image']\n",
        "    filename = os.path.basename(img_path)\n",
        "    save_path = os.path.join(output_folder, filename)\n",
        "    Image.fromarray(processed_img).save(save_path)\n",
        "\n",
        "def process_and_save_images(input_folder, output_folder):\n",
        "    if not os.path.exists(output_folder):\n",
        "        os.makedirs(output_folder)\n",
        "    output_folder_files = os.listdir(output_folder)\n",
        "    transform = A.CLAHE(clip_limit=2, p=1)\n",
        "    for filename in os.listdir(input_folder):\n",
        "        if filename.lower().endswith(('.png', '.jpg', '.jpeg', '.bmp', '.gif', '.tif')):\n",
        "            if not filename.lower() in output_folder_files:\n",
        "\n",
        "                img_path = os.path.join(input_folder, filename)\n",
        "                process_single_image(img_path, output_folder, transform)\n",
        "\n",
        "input_folder_path = '/home/abdulrahman.almansoo/Ai701/photos/eyePACS/train/'\n",
        "output_folder_path = '/home/abdulrahman.almansoo/Ai701/photos/eyePACS/CLAHE/'\n",
        "\n",
        "process_and_save_images(input_folder_path, output_folder_path)"
      ]
    }
  ]
}